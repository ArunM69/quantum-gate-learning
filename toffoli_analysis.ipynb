{
 "cells": [
  {
   "cell_type": "code",
   "execution_count": 21,
   "metadata": {
    "collapsed": false
   },
   "outputs": [
    {
     "name": "stdout",
     "output_type": "stream",
     "text": [
      "The autoreload extension is already loaded. To reload it, use:\n",
      "  %reload_ext autoreload\n"
     ]
    }
   ],
   "source": [
    "%load_ext autoreload\n",
    "%autoreload 2\n",
    "%matplotlib notebook\n",
    "from IPython.display import display\n",
    "import matplotlib.pyplot as plt\n",
    "import numpy as np\n",
    "import qutip\n",
    "import theano\n",
    "import theano.tensor as T\n",
    "import QubitNetwork\n",
    "import utils\n",
    "from utils import chop"
   ]
  },
  {
   "cell_type": "code",
   "execution_count": 16,
   "metadata": {
    "collapsed": false
   },
   "outputs": [
    {
     "ename": "AttributeError",
     "evalue": "module 'qutip' has no attribute 'toffolib'",
     "output_type": "error",
     "traceback": [
      "\u001b[0;31m---------------------------------------------------------------------------\u001b[0m",
      "\u001b[0;31mAttributeError\u001b[0m                            Traceback (most recent call last)",
      "\u001b[0;32m<ipython-input-16-8468aca35a2e>\u001b[0m in \u001b[0;36m<module>\u001b[0;34m()\u001b[0m\n\u001b[1;32m     11\u001b[0m     \u001b[0mn_epochs\u001b[0m\u001b[0;34m=\u001b[0m\u001b[0;36m200\u001b[0m\u001b[0;34m,\u001b[0m\u001b[0;34m\u001b[0m\u001b[0m\n\u001b[1;32m     12\u001b[0m     \u001b[0mbatch_size\u001b[0m\u001b[0;34m=\u001b[0m\u001b[0;36m10\u001b[0m\u001b[0;34m,\u001b[0m\u001b[0;34m\u001b[0m\u001b[0m\n\u001b[0;32m---> 13\u001b[0;31m     \u001b[0mtarget_gate\u001b[0m\u001b[0;34m=\u001b[0m\u001b[0mqutip\u001b[0m\u001b[0;34m.\u001b[0m\u001b[0mtoffolib\u001b[0m\u001b[0;34m(\u001b[0m\u001b[0;34m)\u001b[0m\u001b[0;34m,\u001b[0m\u001b[0;34m\u001b[0m\u001b[0m\n\u001b[0m\u001b[1;32m     14\u001b[0m     \u001b[0mtraining_dataset_size\u001b[0m\u001b[0;34m=\u001b[0m\u001b[0;36m100\u001b[0m\u001b[0;34m,\u001b[0m\u001b[0;34m\u001b[0m\u001b[0m\n\u001b[1;32m     15\u001b[0m     \u001b[0mtest_dataset_size\u001b[0m\u001b[0;34m=\u001b[0m\u001b[0;36m1000\u001b[0m\u001b[0;34m,\u001b[0m\u001b[0;34m\u001b[0m\u001b[0m\n",
      "\u001b[0;31mAttributeError\u001b[0m: module 'qutip' has no attribute 'toffolib'"
     ]
    }
   ],
   "source": [
    "net = QubitNetwork.QubitNetwork(\n",
    "    num_qubits=4,\n",
    "    interactions='all',\n",
    "    self_interactions=('all', ['z']),\n",
    "    system_qubits=[0, 1, 2]\n",
    "#     J=new_Jvalues\n",
    ")\n",
    "net, _ = QubitNetwork.sgd_optimization(\n",
    "    net=net,\n",
    "    learning_rate=1,\n",
    "    n_epochs=200,\n",
    "    batch_size=10,\n",
    "    target_gate=qutip.toffoli(),\n",
    "    training_dataset_size=100,\n",
    "    test_dataset_size=1000,\n",
    "    decay_rate=.01,\n",
    "    saveafter_file='nets/test.pickle'\n",
    ")"
   ]
  },
  {
   "cell_type": "markdown",
   "metadata": {},
   "source": [
    "Let us see how the constructed gate actually implements the toffoli.\n",
    "More specifically, the optimization only assures that we are getting a gate of the form\n",
    "$$ \\mathcal U = \\tilde{\\mathcal U} \\otimes P_A + (...)$$\n",
    "where $P_A$ is the projector over the ancilla state that was used for the training.\n",
    "This means that in the case under consideration we should have\n",
    "$$ \\mathcal U = \\mathcal U_{toffoli} \\otimes \\begin{pmatrix}1&0\\\\0&0\\end{pmatrix}$$"
   ]
  },
  {
   "cell_type": "code",
   "execution_count": 32,
   "metadata": {
    "collapsed": false,
    "scrolled": true
   },
   "outputs": [
    {
     "data": {
      "text/latex": [
       "Quantum object: dims = [[2, 2, 2], [2, 2, 2]], shape = (8, 8), type = oper, isherm = False\\begin{equation*}\\left(\\begin{array}{*{11}c}1.000 & 0.0 & 0.0 & 0.0 & 0.0 & 0.0 & 0.0 & 0.0\\\\0.0 & 1.000 & 0.0 & 0.0 & 0.0 & 0.0 & 0.0 & 0.0\\\\0.0 & 0.0 & 1.000 & 0.0 & 0.0 & 0.0 & 0.0 & 0.0\\\\0.0 & 0.0 & 0.0 & 1.000 & 0.0 & 0.0 & 0.0 & 0.0\\\\0.0 & 0.0 & 0.0 & 0.0 & 1.000 & 0.0 & 0.0 & 0.0\\\\0.0 & 0.0 & 0.0 & 0.0 & 0.0 & 1.000 & 0.0 & 0.0\\\\0.0 & 0.0 & 0.0 & 0.0 & 0.0 & 0.0 & 0.0 & 1.000\\\\0.0 & 0.0 & 0.0 & 0.0 & 0.0 & 0.0 & 1.000 & 0.0\\\\\\end{array}\\right)\\end{equation*}"
      ],
      "text/plain": [
       "Quantum object: dims = [[2, 2, 2], [2, 2, 2]], shape = (8, 8), type = oper, isherm = False\n",
       "Qobj data =\n",
       "[[ 1.  0.  0.  0.  0.  0.  0.  0.]\n",
       " [ 0.  1.  0.  0.  0.  0.  0.  0.]\n",
       " [ 0.  0.  1.  0.  0.  0.  0.  0.]\n",
       " [ 0.  0.  0.  1.  0.  0.  0.  0.]\n",
       " [ 0.  0.  0.  0.  1.  0.  0.  0.]\n",
       " [ 0.  0.  0.  0.  0.  1.  0.  0.]\n",
       " [ 0.  0.  0.  0.  0.  0.  0.  1.]\n",
       " [ 0.  0.  0.  0.  0.  0.  1.  0.]]"
      ]
     },
     "metadata": {},
     "output_type": "display_data"
    },
    {
     "data": {
      "text/latex": [
       "Quantum object: dims = [[2, 2, 2], [2, 2, 2]], shape = (8, 8), type = oper, isherm = False\\begin{equation*}\\left(\\begin{array}{*{11}c}0.584 & (0.162-0.583j) & (-0.307-0.142j) & (-0.110+0.389j) & (0.066-0.048j) & (0.004+0.018j) & (0.058+0.045j) & (0.019-0.041j)\\\\(0.162-0.583j) & (0.532+0.279j) & (-0.216+0.348j) & (-0.273-0.151j) & (-0.014-0.015j) & (-0.018+0.014j) & (-0.057-0.041j) & (0.008+0.043j)\\\\(-0.046+0.184j) & (0.458+0.163j) & (-0.108+0.167j) & (0.747+0.280j) & (-0.100-0.105j) & (-4.235\\times10^{-04}+0.004j) & (0.128+0.108j) & (-0.037-0.027j)\\\\(0.478+0.108j) & (-0.066+0.143j) & (0.669+0.418j) & (-0.018+0.223j) & (0.006+0.052j) & (0.003+0.059j) & (-0.148-0.124j) & (0.059-0.124j)\\\\(0.037+0.013j) & (-0.017-0.050j) & (-0.093+0.019j) & (0.117+0.010j) & (-0.180+0.380j) & (-0.289-0.423j) & (-0.589+0.242j) & (0.289+0.211j)\\\\(0.015-0.012j) & (-0.035+0.012j) & (-0.053-0.044j) & (-0.008-0.045j) & (-0.429+0.013j) & (0.503+0.460j) & (-0.106+0.227j) & (0.525-0.070j)\\\\(0.108+0.002j) & (-0.069+0.014j) & (0.175+0.090j) & (-0.136-0.058j) & (-0.203-0.461j) & (0.087-0.412j) & (0.317+0.529j) & (0.013+0.334j)\\\\(0.035-0.036j) & (-0.002+0.045j) & (0.054+0.020j) & (0.052+0.111j) & (0.303+0.513j) & (0.278+0.118j) & (0.276+0.012j) & (0.020+0.674j)\\\\\\end{array}\\right)\\end{equation*}"
      ],
      "text/plain": [
       "Quantum object: dims = [[2, 2, 2], [2, 2, 2]], shape = (8, 8), type = oper, isherm = False\n",
       "Qobj data =\n",
       "[[  5.83951148e-01+0.j           1.62434082e-01-0.58318838j\n",
       "   -3.07493013e-01-0.14184159j  -1.09834616e-01+0.38909997j\n",
       "    6.55944180e-02-0.04760238j   4.27745341e-03+0.01784894j\n",
       "    5.83608871e-02+0.04454531j   1.93010523e-02-0.04130145j]\n",
       " [  1.62437461e-01-0.58319103j   5.31745528e-01+0.27921003j\n",
       "   -2.16308406e-01+0.34791808j  -2.72841947e-01-0.15085488j\n",
       "   -1.41142187e-02-0.01473078j  -1.83223806e-02+0.01353968j\n",
       "   -5.68142758e-02-0.04111847j   7.74963606e-03+0.04290244j]\n",
       " [ -4.62114482e-02+0.18397513j   4.58262614e-01+0.16343632j\n",
       "   -1.08457710e-01+0.1673485j    7.46808372e-01+0.280339j\n",
       "   -1.00059273e-01-0.1047949j   -4.23474798e-04+0.00411472j\n",
       "    1.27962085e-01+0.10846802j  -3.67550730e-02-0.02681088j]\n",
       " [  4.78207181e-01+0.10814268j  -6.63162531e-02+0.14325996j\n",
       "    6.68834189e-01+0.41803916j  -1.84049724e-02+0.22339884j\n",
       "    6.42882289e-03+0.05188583j   3.40797257e-03+0.05913232j\n",
       "   -1.48239804e-01-0.12412714j   5.88419257e-02-0.12358567j]\n",
       " [  3.74235846e-02+0.01324373j  -1.66964175e-02-0.05003114j\n",
       "   -9.30552960e-02+0.01925127j   1.17389667e-01+0.01048466j\n",
       "   -1.80057951e-01+0.3801594j   -2.88618323e-01-0.42329854j\n",
       "   -5.88617828e-01+0.24204835j   2.89460060e-01+0.21083721j]\n",
       " [  1.47251030e-02-0.01228608j  -3.50349395e-02+0.0123876j\n",
       "   -5.28854761e-02-0.04402013j  -7.51174083e-03-0.04499965j\n",
       "   -4.29019116e-01+0.01304337j   5.03352379e-01+0.45953927j\n",
       "   -1.06159774e-01+0.22667993j   5.24564621e-01-0.06961369j]\n",
       " [  1.08045905e-01+0.00198847j  -6.89931837e-02+0.01404484j\n",
       "    1.74521353e-01+0.08981392j  -1.35543552e-01-0.05794588j\n",
       "   -2.03075961e-01-0.46094101j   8.71194813e-02-0.41238519j\n",
       "    3.16856036e-01+0.52872589j   1.33636092e-02+0.33410365j]\n",
       " [  3.53484087e-02-0.03567879j  -2.15958884e-03+0.04508714j\n",
       "    5.40532710e-02+0.02043631j   5.19733186e-02+0.11124822j\n",
       "    3.02656288e-01+0.51265097j   2.77710312e-01+0.11756792j\n",
       "    2.76321529e-01+0.01242985j   1.97664480e-02+0.67436439j]]"
      ]
     },
     "metadata": {},
     "output_type": "display_data"
    },
    {
     "data": {
      "text/latex": [
       "Quantum object: dims = [[2, 2, 2], [2, 2, 2]], shape = (8, 8), type = oper, isherm = True\\begin{equation*}\\left(\\begin{array}{*{11}c}0.0 & 0.0 & 0.0 & 0.0 & 0.0 & 0.0 & 0.0 & 0.0\\\\0.0 & 0.0 & 0.0 & 0.0 & 0.0 & 0.0 & 0.0 & 0.0\\\\0.0 & 0.0 & 0.0 & 0.0 & 0.0 & 0.0 & 0.0 & 0.0\\\\0.0 & 0.0 & 0.0 & 0.0 & 0.0 & 0.0 & 0.0 & 0.0\\\\0.0 & 0.0 & 0.0 & 0.0 & 0.0 & 0.0 & 0.0 & 0.0\\\\0.0 & 0.0 & 0.0 & 0.0 & 0.0 & 0.0 & 0.0 & 0.0\\\\0.0 & 0.0 & 0.0 & 0.0 & 0.0 & 0.0 & 0.0 & 0.0\\\\0.0 & 0.0 & 0.0 & 0.0 & 0.0 & 0.0 & 0.0 & 0.0\\\\\\end{array}\\right)\\end{equation*}"
      ],
      "text/plain": [
       "Quantum object: dims = [[2, 2, 2], [2, 2, 2]], shape = (8, 8), type = oper, isherm = True\n",
       "Qobj data =\n",
       "[[ 0.  0.  0.  0.  0.  0.  0.  0.]\n",
       " [ 0.  0.  0.  0.  0.  0.  0.  0.]\n",
       " [ 0.  0.  0.  0.  0.  0.  0.  0.]\n",
       " [ 0.  0.  0.  0.  0.  0.  0.  0.]\n",
       " [ 0.  0.  0.  0.  0.  0.  0.  0.]\n",
       " [ 0.  0.  0.  0.  0.  0.  0.  0.]\n",
       " [ 0.  0.  0.  0.  0.  0.  0.  0.]\n",
       " [ 0.  0.  0.  0.  0.  0.  0.  0.]]"
      ]
     },
     "metadata": {},
     "output_type": "display_data"
    },
    {
     "data": {
      "text/latex": [
       "Quantum object: dims = [[2, 2, 2], [2, 2, 2]], shape = (8, 8), type = oper, isherm = True\\begin{equation*}\\left(\\begin{array}{*{11}c}0.0 & 0.0 & 0.0 & 0.0 & 0.0 & 0.0 & 0.0 & 0.0\\\\0.0 & 0.0 & 0.0 & 0.0 & 0.0 & 0.0 & 0.0 & 0.0\\\\0.0 & 0.0 & 0.0 & 0.0 & 0.0 & 0.0 & 0.0 & 0.0\\\\0.0 & 0.0 & 0.0 & 0.0 & 0.0 & 0.0 & 0.0 & 0.0\\\\0.0 & 0.0 & 0.0 & 0.0 & 0.0 & 0.0 & 0.0 & 0.0\\\\0.0 & 0.0 & 0.0 & 0.0 & 0.0 & 0.0 & 0.0 & 0.0\\\\0.0 & 0.0 & 0.0 & 0.0 & 0.0 & 0.0 & 0.0 & 0.0\\\\0.0 & 0.0 & 0.0 & 0.0 & 0.0 & 0.0 & 0.0 & 0.0\\\\\\end{array}\\right)\\end{equation*}"
      ],
      "text/plain": [
       "Quantum object: dims = [[2, 2, 2], [2, 2, 2]], shape = (8, 8), type = oper, isherm = True\n",
       "Qobj data =\n",
       "[[ 0.  0.  0.  0.  0.  0.  0.  0.]\n",
       " [ 0.  0.  0.  0.  0.  0.  0.  0.]\n",
       " [ 0.  0.  0.  0.  0.  0.  0.  0.]\n",
       " [ 0.  0.  0.  0.  0.  0.  0.  0.]\n",
       " [ 0.  0.  0.  0.  0.  0.  0.  0.]\n",
       " [ 0.  0.  0.  0.  0.  0.  0.  0.]\n",
       " [ 0.  0.  0.  0.  0.  0.  0.  0.]\n",
       " [ 0.  0.  0.  0.  0.  0.  0.  0.]]"
      ]
     },
     "metadata": {},
     "output_type": "display_data"
    }
   ],
   "source": [
    "net = QubitNetwork.load_network_from_file('nets/toffoli.pickle')\n",
    "gate = qutip.Qobj(net.get_current_gate(), dims=[[2, 2, 2, 2]] * 2)\n",
    "\n",
    "p00 = qutip.ket2dm(qutip.basis(2, 0))\n",
    "p11 = qutip.ket2dm(qutip.basis(2, 1))\n",
    "p01 = qutip.Qobj([[0, 1], [0, 0]])\n",
    "p10 = qutip.Qobj([[0, 0], [1, 0]])\n",
    "\n",
    "i3 = qutip.tensor([qutip.qeye(2) for _ in range(3)])\n",
    "ntlp = utils.normalize_topleft_phase\n",
    "\n",
    "extracted1 = (qutip.tensor(i3, p00) * gate * qutip.tensor(i3, p00)).ptrace([0, 1, 2])\n",
    "extracted2 = (qutip.tensor(i3, p11) * gate * qutip.tensor(i3, p11)).ptrace([0, 1, 2])\n",
    "extracted3 = (qutip.tensor(i3, p01) * gate * qutip.tensor(i3, p01)).ptrace([0, 1, 2])\n",
    "extracted4 = (qutip.tensor(i3, p10) * gate * qutip.tensor(i3, p10)).ptrace([0, 1, 2])\n",
    "\n",
    "display(chop(ntlp(chop(extracted1))))\n",
    "display(ntlp(chop(extracted2)))\n",
    "display(ntlp(chop(extracted3)))\n",
    "display(ntlp(chop(extracted4)))"
   ]
  }
 ],
 "metadata": {
  "anaconda-cloud": {},
  "kernelspec": {
   "display_name": "Python [conda env:theano]",
   "language": "python",
   "name": "conda-env-theano-py"
  },
  "language_info": {
   "codemirror_mode": {
    "name": "ipython",
    "version": 3
   },
   "file_extension": ".py",
   "mimetype": "text/x-python",
   "name": "python",
   "nbconvert_exporter": "python",
   "pygments_lexer": "ipython3",
   "version": "3.5.2"
  }
 },
 "nbformat": 4,
 "nbformat_minor": 1
}
