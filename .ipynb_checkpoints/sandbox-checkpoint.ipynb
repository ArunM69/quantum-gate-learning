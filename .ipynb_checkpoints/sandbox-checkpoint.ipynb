{
 "cells": [
  {
   "cell_type": "code",
   "execution_count": 1,
   "metadata": {
    "collapsed": false
   },
   "outputs": [],
   "source": [
    "import numpy as np\n",
    "import theano\n",
    "import theano.tensor as T\n",
    "import theano.tensor.slinalg"
   ]
  },
  {
   "cell_type": "code",
   "execution_count": 2,
   "metadata": {
    "collapsed": false
   },
   "outputs": [
    {
     "data": {
      "text/plain": [
       "'((fill((x ** TensorConstant{2}), TensorConstant{1.0}) * TensorConstant{2}) * (x ** (TensorConstant{2} - TensorConstant{1})))'"
      ]
     },
     "execution_count": 2,
     "metadata": {},
     "output_type": "execute_result"
    }
   ],
   "source": [
    "x = T.dscalar('x')\n",
    "y = x ** 2\n",
    "gy = T.grad(y, x)\n",
    "theano.pp(gy)"
   ]
  },
  {
   "cell_type": "code",
   "execution_count": 3,
   "metadata": {
    "collapsed": false
   },
   "outputs": [
    {
     "data": {
      "text/plain": [
       "array(8.0)"
      ]
     },
     "execution_count": 3,
     "metadata": {},
     "output_type": "execute_result"
    }
   ],
   "source": [
    "f = theano.function([x], gy)\n",
    "f(4)"
   ]
  },
  {
   "cell_type": "code",
   "execution_count": 4,
   "metadata": {
    "collapsed": false
   },
   "outputs": [
    {
     "data": {
      "text/plain": [
       "array([[ 8.,  0.],\n",
       "       [ 0.,  8.]])"
      ]
     },
     "execution_count": 4,
     "metadata": {},
     "output_type": "execute_result"
    }
   ],
   "source": [
    "x = T.dvector('x')\n",
    "y = x ** 2\n",
    "J, updates = theano.scan(lambda i, y, x: T.grad(y[i], x),\n",
    "                        sequences=T.arange(y.shape[0]),\n",
    "                        non_sequences=[y, x])\n",
    "f = theano.function([x], J, updates=updates)\n",
    "f([4, 4])"
   ]
  },
  {
   "cell_type": "code",
   "execution_count": 8,
   "metadata": {
    "collapsed": false
   },
   "outputs": [
    {
     "data": {
      "text/plain": [
       "array([[[7, 3, 1],\n",
       "        [0, 1, 7],\n",
       "        [4, 8, 3]],\n",
       "\n",
       "       [[5, 1, 7],\n",
       "        [0, 5, 5],\n",
       "        [4, 1, 1]]])"
      ]
     },
     "execution_count": 8,
     "metadata": {},
     "output_type": "execute_result"
    }
   ],
   "source": [
    "rm = np.random.randint(0, 9, (2, 3, 3))\n",
    "rm"
   ]
  },
  {
   "cell_type": "markdown",
   "metadata": {},
   "source": [
    "### Given a vector $\\boldsymbol x=(x_1, x_2)$ and two matrices $H_1, H_2$, compute the gradient (partial derivatives) of $x_1(x_1 H_1 + x_2 H_2)$ with respect to $x_1$ and $x_2$:"
   ]
  },
  {
   "cell_type": "code",
   "execution_count": 35,
   "metadata": {
    "collapsed": false
   },
   "outputs": [
    {
     "data": {
      "text/plain": [
       "[array([[ 28.08,  33.2 ,  38.32],\n",
       "        [ 43.44,  48.56,  53.68],\n",
       "        [ 58.8 ,  63.92,  69.04]]), array([[  9.,  10.,  11.],\n",
       "        [ 12.,  13.,  14.],\n",
       "        [ 15.,  16.,  17.]])]"
      ]
     },
     "execution_count": 35,
     "metadata": {},
     "output_type": "execute_result"
    }
   ],
   "source": [
    "rm = np.arange(18).reshape(2, 3, 3)\n",
    "x = T.dvector('x')\n",
    "# random_matrices = np.random.randn(4, 4, 2)\n",
    "H = x[0] * T.tensordot(x, rm, axes=1)\n",
    "Hflat = T.flatten(H)\n",
    "# expH = theano.tensor.slinalg.expm(H)\n",
    "def update_func(i, matrix, x):\n",
    "    return T.grad(matrix[i], x)\n",
    "results, updates = theano.map(update_func,\n",
    "                        sequences=T.arange(H.shape[0] * H.shape[1]),\n",
    "                        non_sequences=[Hflat, x])\n",
    "J1 = results.T[0].reshape(H.shape)\n",
    "J2 = results.T[1].reshape(H.shape)\n",
    "grad_f = theano.function(inputs=[x], outputs=[J1, J2])\n",
    "grad_f([1, 3.12])"
   ]
  },
  {
   "cell_type": "markdown",
   "metadata": {},
   "source": [
    "### The gradient of $\\boldsymbol z = 5 x_1 + 7 x_2$ with respect to $\\boldsymbol{x}\\equiv (x_1, x_2)$ correctly gives $(5, 7)$:"
   ]
  },
  {
   "cell_type": "code",
   "execution_count": 128,
   "metadata": {
    "collapsed": false
   },
   "outputs": [
    {
     "data": {
      "text/plain": [
       "array([ 5.,  7.])"
      ]
     },
     "execution_count": 128,
     "metadata": {},
     "output_type": "execute_result"
    }
   ],
   "source": [
    "x = T.dvector('x')\n",
    "z = T.dot(x, np.array([5, 7]))\n",
    "gz = T.grad(z, x)\n",
    "output = theano.function(inputs=[x], outputs=gz)\n",
    "output([1, 20])"
   ]
  },
  {
   "cell_type": "markdown",
   "metadata": {},
   "source": [
    "### Define function to map function elementwise, and test it in supersimple instance"
   ]
  },
  {
   "cell_type": "code",
   "execution_count": 50,
   "metadata": {
    "collapsed": false
   },
   "outputs": [
    {
     "data": {
      "text/plain": [
       "array([[ 1.5,  2.5],\n",
       "       [ 3.5,  4.5]])"
      ]
     },
     "execution_count": 50,
     "metadata": {},
     "output_type": "execute_result"
    }
   ],
   "source": [
    "def elementwise_map(fn, matrix):\n",
    "    flattened_m = T.flatten(matrix)\n",
    "    results, updates = theano.map(fn,\n",
    "                                  sequences=T.arange(flattened_m.shape[0]),\n",
    "                                  non_sequences=flattened_m)\n",
    "    return T.reshape(results, matrix.shape)\n",
    "M = T.dmatrix('M')\n",
    "# our map should simply add 0.5 to every element of the matrix M\n",
    "def map_func(i, X):\n",
    "    return X[i] + .5\n",
    "Mplus = elementwise_map(map_func, M)\n",
    "f = theano.function([M], Mplus)\n",
    "f([[1, 2], [3, 4]])"
   ]
  }
 ],
 "metadata": {
  "anaconda-cloud": {},
  "kernelspec": {
   "display_name": "Python [conda env:theano]",
   "language": "python",
   "name": "conda-env-theano-py"
  },
  "language_info": {
   "codemirror_mode": {
    "name": "ipython",
    "version": 3
   },
   "file_extension": ".py",
   "mimetype": "text/x-python",
   "name": "python",
   "nbconvert_exporter": "python",
   "pygments_lexer": "ipython3",
   "version": "3.5.2"
  }
 },
 "nbformat": 4,
 "nbformat_minor": 1
}
