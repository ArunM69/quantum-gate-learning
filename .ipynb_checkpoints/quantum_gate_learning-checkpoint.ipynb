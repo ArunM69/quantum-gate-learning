{
 "cells": [
  {
   "cell_type": "code",
   "execution_count": 32,
   "metadata": {
    "collapsed": false
   },
   "outputs": [
    {
     "name": "stdout",
     "output_type": "stream",
     "text": [
      "The autoreload extension is already loaded. To reload it, use:\n",
      "  %reload_ext autoreload\n"
     ]
    }
   ],
   "source": [
    "%load_ext autoreload\n",
    "%autoreload 2\n",
    "import QubitNetwork"
   ]
  },
  {
   "cell_type": "code",
   "execution_count": 33,
   "metadata": {
    "collapsed": false
   },
   "outputs": [],
   "source": [
    "net = QubitNetwork.QubitNetwork(4, interactions=('all', ['zz']),\n",
    "                   self_interactions=('all', ['x', 'y']),\n",
    "                   system_qubits=[0, 1, 2])"
   ]
  },
  {
   "cell_type": "code",
   "execution_count": 27,
   "metadata": {
    "collapsed": false
   },
   "outputs": [
    {
     "data": {
      "text/plain": [
       "OrderedDict([(0, ['x', 'y']),\n",
       "             (1, ['x', 'y']),\n",
       "             (2, ['x', 'y']),\n",
       "             (3, ['x', 'y'])])"
      ]
     },
     "execution_count": 27,
     "metadata": {},
     "output_type": "execute_result"
    }
   ],
   "source": [
    "net.active_hs"
   ]
  },
  {
   "cell_type": "code",
   "execution_count": 28,
   "metadata": {
    "collapsed": false
   },
   "outputs": [
    {
     "data": {
      "text/plain": [
       "OrderedDict([((0, 1), ['zz']),\n",
       "             ((1, 2), ['zz']),\n",
       "             ((1, 3), ['zz']),\n",
       "             ((2, 3), ['zz']),\n",
       "             ((0, 3), ['zz']),\n",
       "             ((0, 2), ['zz'])])"
      ]
     },
     "execution_count": 28,
     "metadata": {},
     "output_type": "execute_result"
    }
   ],
   "source": [
    "net.active_Js"
   ]
  },
  {
   "cell_type": "code",
   "execution_count": 4,
   "metadata": {
    "collapsed": false
   },
   "outputs": [
    {
     "name": "stdout",
     "output_type": "stream",
     "text": [
      "(16, 8, 8)\n"
     ]
    },
    {
     "data": {
      "text/plain": [
       "array([[ 0.,  0.,  0.,  0.,  0., -1.,  0.,  0.],\n",
       "       [ 0.,  0.,  0.,  0., -1.,  0.,  0.,  0.],\n",
       "       [ 0.,  0.,  0.,  0.,  0.,  0.,  0., -1.],\n",
       "       [ 0.,  0.,  0.,  0.,  0.,  0., -1.,  0.],\n",
       "       [ 0.,  1.,  0.,  0.,  0.,  0.,  0.,  0.],\n",
       "       [ 1.,  0.,  0.,  0.,  0.,  0.,  0.,  0.],\n",
       "       [ 0.,  0.,  0.,  1.,  0.,  0.,  0.,  0.],\n",
       "       [ 0.,  0.,  1.,  0.,  0.,  0.,  0.,  0.]])"
      ]
     },
     "execution_count": 4,
     "metadata": {},
     "output_type": "execute_result"
    }
   ],
   "source": [
    "# J is the theano vector containing all the interactions strengths\n",
    "J = T.dvector('J')\n",
    "H = T.tensordot(J, sigma_pairs, axes=1)\n",
    "\n",
    "expH = T.slinalg.expm(H)\n",
    "\n",
    "f = theano.function([J], H)\n",
    "f(get_sigmas_index((0, 1)))\n",
    "# theano.printing.pydotprint(H, 'testPNG.png')"
   ]
  },
  {
   "cell_type": "code",
   "execution_count": 36,
   "metadata": {
    "collapsed": false
   },
   "outputs": [
    {
     "name": "stdout",
     "output_type": "stream",
     "text": [
      "Total number of qubits: 4,\n",
      "Number of ancillary qubits: 1\n",
      "Number of qubits in the system: 3\n"
     ]
    }
   ],
   "source": [
    "print('Total number of qubits: {0},\\n'\n",
    "      'Number of ancillary qubits: {1}\\n'\n",
    "      'Number of system qubits: {2}'.format(\n",
    "        net.num_qubits, net.num_ancilla_qubits,\n",
    "        net.num_system_qubits))"
   ]
  },
  {
   "cell_type": "code",
   "execution_count": 64,
   "metadata": {
    "collapsed": false
   },
   "outputs": [
    {
     "data": {
      "text/plain": [
       "array([[ 0.05834381]])"
      ]
     },
     "execution_count": 64,
     "metadata": {},
     "output_type": "execute_result"
    }
   ],
   "source": [
    "# net.hs_factors and net.Js_factors are already in big real matrix form,\n",
    "# and already multiplied by 1j\n",
    "H_factors = np.concatenate((net.hs_factors, net.Js_factors), axis=0)\n",
    "# J is the theano vector containing all the interactions strengths and self energies\n",
    "J = T.dvector('J')\n",
    "# this builds the Hamiltonian of the system (in big real matrix form),\n",
    "# already multiplied with the 1j factor and ready for exponentiation\n",
    "H = T.tensordot(J, H_factors, axes=1)\n",
    "# expH is the unitary evolution of the system\n",
    "expH = T.slinalg.expm(H)\n",
    "\n",
    "# net.initial_state is the initial state stored as a vector (ket),\n",
    "# multiplying it on the left by expH amounts to evolve it\n",
    "expH_times_state = T.dot(expH, net.initial_state)\n",
    "# build the density matrix out of the evolved state\n",
    "dm = expH_times_state * expH_times_state.T\n",
    "dm_real = dm[0:dm.shape[0] // 2, 0:dm.shape[1] // 2]\n",
    "dm_imag = dm[0:dm.shape[0] // 2, dm.shape[1] // 2:]\n",
    "# partial trace\n",
    "num_ancillas = net.num_qubits - len(net.system_qubits)\n",
    "def col_fn(col_idx, row_idx, matrix):\n",
    "    subm_dim = 2 ** num_ancillas\n",
    "    return T.nlinalg.trace(\n",
    "        matrix[row_idx * subm_dim:(row_idx + 1) * subm_dim, col_idx * subm_dim:(col_idx + 1) * subm_dim])\n",
    "\n",
    "def row_fn(row_idx, matrix):\n",
    "    results, _ = theano.scan(fn=col_fn,\n",
    "                             sequences=T.arange(matrix.shape[1] // 2 ** num_ancillas),\n",
    "                             non_sequences=[row_idx, matrix])\n",
    "    return results\n",
    "dm_real_traced, _ = theano.scan(fn=row_fn,\n",
    "                             sequences=T.arange(dm_real.shape[0] // 2 ** num_ancillas),\n",
    "                             non_sequences=[dm_real])\n",
    "dm_imag_traced, _ = theano.scan(fn=row_fn,\n",
    "                             sequences=T.arange(dm_imag.shape[0] // 2 ** num_ancillas),\n",
    "                             non_sequences=[dm_imag])\n",
    "dm_traced_r1 = T.concatenate((dm_real_traced, -dm_imag_traced), axis=1)\n",
    "dm_traced_r2 = T.concatenate((dm_imag_traced, dm_real_traced), axis=1)\n",
    "dm_traced = T.concatenate((dm_traced_r1, dm_traced_r2), axis=0)\n",
    "\n",
    "target_u = complex2bigreal(qutip.qip.fredkin().data.toarray())\n",
    "target_evolved_state = T.dot(target_u, net.initial_system_state)\n",
    "# fidelity = target_evolved_state.T.dot(target_u.dot(target_evolved_state))\n",
    "fidelity = T.dot(target_evolved_state.T, T.dot(dm_traced, target_evolved_state))\n",
    "\n",
    "\n",
    "# generate random initial parameters\n",
    "initial_parameters = np.random.randn(net.num_interactions + net.num_self_interactions)\n",
    "f = theano.function([J], fidelity)\n",
    "f(initial_parameters)"
   ]
  },
  {
   "cell_type": "code",
   "execution_count": 26,
   "metadata": {
    "collapsed": false
   },
   "outputs": [
    {
     "data": {
      "text/plain": [
       "array([[  0.,   1.,   2.],\n",
       "       [  3.,   5.,   7.],\n",
       "       [  6.,   9.,  12.]])"
      ]
     },
     "execution_count": 26,
     "metadata": {},
     "output_type": "execute_result"
    }
   ],
   "source": [
    "H = T.dmatrix('H')\n",
    "def fn2(col, row, matrix):\n",
    "    return matrix[row, col] + row * col\n",
    "\n",
    "def fn(row, matrix):\n",
    "    res, _ = theano.scan(fn=fn2,\n",
    "                               sequences=T.arange(matrix.shape[1]),\n",
    "                               non_sequences=[row, matrix])\n",
    "    return res\n",
    "\n",
    "results, updates = theano.scan(fn=fn,\n",
    "                               sequences=T.arange(H.shape[0]),\n",
    "                               non_sequences=[H])\n",
    "f = theano.function([H], results)\n",
    "f(np.arange(9).reshape(3, 3))"
   ]
  },
  {
   "cell_type": "code",
   "execution_count": 48,
   "metadata": {
    "collapsed": false
   },
   "outputs": [
    {
     "data": {
      "text/plain": [
       "dtype('float64')"
      ]
     },
     "execution_count": 48,
     "metadata": {},
     "output_type": "execute_result"
    }
   ],
   "source": [
    "complex2bigreal(qutip.qip.fredkin().data.toarray()).dtype"
   ]
  }
 ],
 "metadata": {
  "anaconda-cloud": {},
  "kernelspec": {
   "display_name": "Python [conda env:theano]",
   "language": "python",
   "name": "conda-env-theano-py"
  },
  "language_info": {
   "codemirror_mode": {
    "name": "ipython",
    "version": 3
   },
   "file_extension": ".py",
   "mimetype": "text/x-python",
   "name": "python",
   "nbconvert_exporter": "python",
   "pygments_lexer": "ipython3",
   "version": "3.5.2"
  }
 },
 "nbformat": 4,
 "nbformat_minor": 1
}
