{
 "cells": [
  {
   "cell_type": "code",
   "execution_count": 3,
   "metadata": {
    "collapsed": false
   },
   "outputs": [
    {
     "ename": "SyntaxError",
     "evalue": "invalid syntax (<ipython-input-3-d11cdfe98637>, line 12)",
     "output_type": "error",
     "traceback": [
      "\u001b[0;36m  File \u001b[0;32m\"<ipython-input-3-d11cdfe98637>\"\u001b[0;36m, line \u001b[0;32m12\u001b[0m\n\u001b[0;31m    from ../QubitNetwork import QubitNetwork\u001b[0m\n\u001b[0m           ^\u001b[0m\n\u001b[0;31mSyntaxError\u001b[0m\u001b[0;31m:\u001b[0m invalid syntax\n"
     ]
    }
   ],
   "source": [
    "%load_ext autoreload\n",
    "%autoreload 2\n",
    "%matplotlib notebook\n",
    "from IPython.display import display\n",
    "import matplotlib.pyplot as plt\n",
    "import numpy as np\n",
    "import qutip\n",
    "import theano\n",
    "import theano.tensor as T\n",
    "from collections import OrderedDict\n",
    "import itertools\n",
    "from ../QubitNetwork import QubitNetwork\n",
    "from qubit_network import load_network_from_file, sgd_optimization, transfer_J_values\n",
    "from utils import *\n",
    "from results_analysis_utils import *\n",
    "\n",
    "pairs = list(itertools.combinations(range(4), 2))"
   ]
  },
  {
   "cell_type": "markdown",
   "metadata": {},
   "source": [
    "## Test with interactions from *Banchi et al.*.\n",
    "The Fredkin gate is indeed reproduced with good fidelity, and regardless of the initial ancilla state."
   ]
  },
  {
   "cell_type": "code",
   "execution_count": null,
   "metadata": {
    "collapsed": true
   },
   "outputs": [],
   "source": [
    "net_paper = QubitNetwork(\n",
    "    num_qubits=4,\n",
    "    system_qubits=3,\n",
    "    interactions=('all', ['zz', 'xx', 'yy', 'z', 'x']),\n",
    "    ancillae_state=qutip.basis(2, 0),\n",
    "    target_gate=qutip.fredkin()\n",
    ")\n",
    "net_paper.J.set_value(np.zeros_like(net_paper.J.get_value()))\n",
    "\n",
    "Jvalues = net_paper.J.get_value()\n",
    "\n",
    "J01xx = 13.6\n",
    "J02xx = J01xx\n",
    "\n",
    "J12xx = -4.712\n",
    "J12yy = J12zz = J12xx\n",
    "\n",
    "J13xx = 8.4\n",
    "J23xx = J13xx\n",
    "\n",
    "J01zz = 11.15\n",
    "J02zz = J01zz\n",
    "\n",
    "h3x = 1.025\n",
    "h0z = np.pi\n",
    "\n",
    "Jvalues[net_paper.tuple_to_J_index(((0, 1), 'xx'))] = J01xx / 4\n",
    "Jvalues[net_paper.tuple_to_J_index(((0, 2), 'xx'))] = J02xx / 4\n",
    "Jvalues[net_paper.tuple_to_J_index(((1, 2), 'xx'))] = J12xx / 4\n",
    "Jvalues[net_paper.tuple_to_J_index(((1, 2), 'yy'))] = J12yy / 4\n",
    "Jvalues[net_paper.tuple_to_J_index(((1, 2), 'zz'))] = J12zz / 4\n",
    "Jvalues[net_paper.tuple_to_J_index(((1, 3), 'xx'))] = J13xx / 4\n",
    "Jvalues[net_paper.tuple_to_J_index(((2, 3), 'xx'))] = J23xx / 4\n",
    "Jvalues[net_paper.tuple_to_J_index(((0, 1), 'zz'))] = J01zz / 4\n",
    "Jvalues[net_paper.tuple_to_J_index(((0, 2), 'zz'))] = J02zz / 4\n",
    "Jvalues[net_paper.tuple_to_J_index((0, 'z'))] = h0z / 2\n",
    "Jvalues[net_paper.tuple_to_J_index((3, 'x'))] = h3x / 2\n",
    "\n",
    "net_paper.J.set_value(Jvalues)\n",
    "\n",
    "# net_paper.test_fidelity(n_samples=1000)\n",
    "gate = qutip.Qobj(net_paper.get_current_gate(), dims=[[2, 2, 2, 2]] * 2)\n",
    "gate = chop(gate).ptrace([0, 1, 2])\n",
    "gate = gate * np.exp(-1j * np.angle(gate[0, 0]))\n",
    "gate = gate / gate[0, 0]\n",
    "chop(gate, 0.01)"
   ]
  }
 ],
 "metadata": {
  "anaconda-cloud": {},
  "kernelspec": {
   "display_name": "Python [conda env:theano]",
   "language": "python",
   "name": "conda-env-theano-py"
  },
  "language_info": {
   "codemirror_mode": {
    "name": "ipython",
    "version": 3
   },
   "file_extension": ".py",
   "mimetype": "text/x-python",
   "name": "python",
   "nbconvert_exporter": "python",
   "pygments_lexer": "ipython3",
   "version": "3.5.2"
  }
 },
 "nbformat": 4,
 "nbformat_minor": 1
}
