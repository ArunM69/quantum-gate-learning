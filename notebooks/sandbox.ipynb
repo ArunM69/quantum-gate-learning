{
 "cells": [
  {
   "cell_type": "code",
   "execution_count": null,
   "metadata": {
    "collapsed": true
   },
   "outputs": [],
   "source": [
    "%load_ext py_d3"
   ]
  },
  {
   "cell_type": "code",
   "execution_count": 4,
   "metadata": {
    "collapsed": false
   },
   "outputs": [
    {
     "data": {
      "text/html": [
       "\n",
       "<script>\n",
       "requirejs.config({\n",
       "    paths: {\n",
       "        d3: \"//cdnjs.cloudflare.com/ajax/libs/d3/3.5.17/d3\"\n",
       "    }\n",
       "});\n",
       "\n",
       "require(['d3'], function(d3) {\n",
       "    window.d3 = d3;\n",
       "});\n",
       "</script>\n",
       "<script>\n",
       "_select = d3.select;\n",
       "\n",
       "d3.select2 = function(selection) {\n",
       "    return _select(\"#d3-cell-2\").select(selection);\n",
       "}\n",
       "d3.selectAll2 = function(selection) {\n",
       "    return _select(\"#d3-cell-2\").selectAll(selection);\n",
       "}\n",
       "</script>\n",
       "<g id=\"d3-cell-2\">\n",
       "\n",
       "<g></g>\n",
       "\n",
       "<script>\n",
       "d3.select2(\"g\").text(\"Hello world!\")\n",
       "</script>\n",
       "</g>"
      ],
      "text/plain": [
       "<IPython.core.display.HTML object>"
      ]
     },
     "metadata": {},
     "output_type": "display_data"
    }
   ],
   "source": [
    "%%d3\n",
    "\n",
    "<g></g>\n",
    "\n",
    "<script>\n",
    "d3.select(\"g\").text(\"Hello world!\")\n",
    "</script>"
   ]
  },
  {
   "cell_type": "code",
   "execution_count": 6,
   "metadata": {
    "collapsed": false
   },
   "outputs": [
    {
     "data": {
      "text/html": [
       "\n",
       "<script>\n",
       "requirejs.config({\n",
       "    paths: {\n",
       "        d3: \"//cdnjs.cloudflare.com/ajax/libs/d3/3.5.17/d3\"\n",
       "    }\n",
       "});\n",
       "\n",
       "require(['d3'], function(d3) {\n",
       "    window.d3 = d3;\n",
       "});\n",
       "</script>\n",
       "<script>\n",
       "_select = d3.select;\n",
       "\n",
       "d3.select4 = function(selection) {\n",
       "    return _select(\"#d3-cell-4\").select(selection);\n",
       "}\n",
       "d3.selectAll4 = function(selection) {\n",
       "    return _select(\"#d3-cell-4\").selectAll(selection);\n",
       "}\n",
       "</script>\n",
       "<g id=\"d3-cell-4\">\n",
       "\n",
       "<g></g>\n",
       "\n",
       "<style>\n",
       "element {\n",
       "    height: 25px;\n",
       "}\n",
       "div.bar {\n",
       "    display: inline-block;\n",
       "    width: 20px;\n",
       "    height: 75px;\n",
       "    margin-right: 2px;\n",
       "    background-color: teal;\n",
       "}\n",
       "</style>\n",
       "\n",
       "<script>\n",
       "var dataset = [5, 10, 14, 2, 3, 5, 11, 2, 1];\n",
       "\n",
       "d3.select4(\"g\").selectAll(\"div\")\n",
       "    .data(dataset)\n",
       "    .enter()\n",
       "    .append(\"div\")\n",
       "    .attr(\"class\", \"bar\")\n",
       "    .style(\"height\", function(d) {\n",
       "            var barHeight = d * 5;\n",
       "            return barHeight + \"px\"\n",
       "        });\n",
       "</script>\n",
       "</g>"
      ],
      "text/plain": [
       "<IPython.core.display.HTML object>"
      ]
     },
     "metadata": {},
     "output_type": "display_data"
    }
   ],
   "source": [
    "%%d3\n",
    "\n",
    "<g></g>\n",
    "\n",
    "<style>\n",
    "element {\n",
    "    height: 25px;\n",
    "}\n",
    "div.bar {\n",
    "    display: inline-block;\n",
    "    width: 20px;\n",
    "    height: 75px;\n",
    "    margin-right: 2px;\n",
    "    background-color: teal;\n",
    "}\n",
    "</style>\n",
    "\n",
    "<script>\n",
    "var dataset = [5, 10, 14, 2, 3, 5, 11, 2, 1];\n",
    "\n",
    "d3.select(\"g\").selectAll(\"div\")\n",
    "    .data(dataset)\n",
    "    .enter()\n",
    "    .append(\"div\")\n",
    "    .attr(\"class\", \"bar\")\n",
    "    .style(\"height\", function(d) {\n",
    "            var barHeight = d * 5;\n",
    "            return barHeight + \"px\"\n",
    "        });\n",
    "</script>"
   ]
  },
  {
   "cell_type": "code",
   "execution_count": 7,
   "metadata": {
    "collapsed": false
   },
   "outputs": [
    {
     "data": {
      "text/html": [
       "\n",
       "<script>\n",
       "requirejs.config({\n",
       "    paths: {\n",
       "        d3: \"//cdnjs.cloudflare.com/ajax/libs/d3/3.5.17/d3\"\n",
       "    }\n",
       "});\n",
       "\n",
       "require(['d3'], function(d3) {\n",
       "    window.d3 = d3;\n",
       "});\n",
       "</script>\n",
       "<script>\n",
       "_select = d3.select;\n",
       "\n",
       "d3.select5 = function(selection) {\n",
       "    return _select(\"#d3-cell-5\").select(selection);\n",
       "}\n",
       "d3.selectAll5 = function(selection) {\n",
       "    return _select(\"#d3-cell-5\").selectAll(selection);\n",
       "}\n",
       "</script>\n",
       "<g id=\"d3-cell-5\">\n",
       "\n",
       "<g></g>\n",
       "\n",
       "<svg width=\"50\" height=\"50\">\n",
       "    <circle cx=\"25\" cy=\"25\" r=\"25\" fill=\"purple\" />\n",
       "</svg>\n",
       "\n",
       "<script>\n",
       "\n",
       "var jsonCircles = [\n",
       "    { \"x_axis\": 30, \"y_axis\": 30, \"radius\": 20, \"color\": \"green\" },\n",
       "    { \"x_axis\": 70, \"y_axis\": 70, \"radius\": 20, \"color\": \"purple\" },\n",
       "    { \"x_axis\": 110, \"y_axis\": 100, \"radius\": 20, \"color\": \"red\" }];\n",
       "\n",
       "var svgContainer = d3.select5(\"g\").append(\"svg\")\n",
       "    .attr(\"width\", 200)\n",
       "    .attr(\"height\", 200);\n",
       "\n",
       "var circles = svgContainer.selectAll(\"circle\")\n",
       "    .data(jsonCircles)\n",
       "    .enter()\n",
       "    .append(\"circle\")\n",
       "    .attr(\"cx\", function(d) { return d.x_axis; })\n",
       "    .attr(\"cy\", function(d) { return d.y_axis; })\n",
       "    .attr(\"r\", function(d) { return d.radius; })\n",
       "    .style(\"fill\", function(d) { return d.color; });\n",
       "\n",
       "</script>\n",
       "</g>"
      ],
      "text/plain": [
       "<IPython.core.display.HTML object>"
      ]
     },
     "metadata": {},
     "output_type": "display_data"
    }
   ],
   "source": [
    "%%d3\n",
    "\n",
    "<g></g>\n",
    "\n",
    "<svg width=\"50\" height=\"50\">\n",
    "    <circle cx=\"25\" cy=\"25\" r=\"25\" fill=\"purple\" />\n",
    "</svg>\n",
    "\n",
    "<script>\n",
    "\n",
    "var jsonCircles = [\n",
    "    { \"x_axis\": 30, \"y_axis\": 30, \"radius\": 20, \"color\": \"green\" },\n",
    "    { \"x_axis\": 70, \"y_axis\": 70, \"radius\": 20, \"color\": \"purple\" },\n",
    "    { \"x_axis\": 110, \"y_axis\": 100, \"radius\": 20, \"color\": \"red\" }];\n",
    "\n",
    "var svgContainer = d3.select(\"g\").append(\"svg\")\n",
    "    .attr(\"width\", 200)\n",
    "    .attr(\"height\", 200);\n",
    "\n",
    "var circles = svgContainer.selectAll(\"circle\")\n",
    "    .data(jsonCircles)\n",
    "    .enter()\n",
    "    .append(\"circle\")\n",
    "    .attr(\"cx\", function(d) { return d.x_axis; })\n",
    "    .attr(\"cy\", function(d) { return d.y_axis; })\n",
    "    .attr(\"r\", function(d) { return d.radius; })\n",
    "    .style(\"fill\", function(d) { return d.color; });\n",
    "\n",
    "</script>"
   ]
  },
  {
   "cell_type": "code",
   "execution_count": null,
   "metadata": {
    "collapsed": false
   },
   "outputs": [],
   "source": [
    "import matplotlib.pyplot as plt, mpld3\n",
    "\n",
    "plt.plot([3, 1, 4, 1, 5], 'ks-', mec='w', mew=5, ms=20)\n",
    "mpld3.display()"
   ]
  },
  {
   "cell_type": "code",
   "execution_count": null,
   "metadata": {
    "collapsed": true
   },
   "outputs": [],
   "source": [
    "2 "
   ]
  }
 ],
 "metadata": {
  "anaconda-cloud": {},
  "kernelspec": {
   "display_name": "Python [conda env:theano]",
   "language": "python",
   "name": "conda-env-theano-py"
  },
  "language_info": {
   "codemirror_mode": {
    "name": "ipython",
    "version": 3
   },
   "file_extension": ".py",
   "mimetype": "text/x-python",
   "name": "python",
   "nbconvert_exporter": "python",
   "pygments_lexer": "ipython3",
   "version": "3.5.2"
  }
 },
 "nbformat": 4,
 "nbformat_minor": 1
}
