{
 "cells": [
  {
   "cell_type": "code",
   "execution_count": 25,
   "metadata": {
    "collapsed": true
   },
   "outputs": [],
   "source": [
    "import itertools\n",
    "import qutip\n",
    "import numpy as np\n",
    "import theano\n",
    "import theano.tensor as T\n",
    "import theano.tensor.slinalg\n",
    "import theano.tensor.nlinalg"
   ]
  },
  {
   "cell_type": "code",
   "execution_count": 2,
   "metadata": {
    "collapsed": true
   },
   "outputs": [],
   "source": [
    "def complexrandn(dim1, dim2):\n",
    "    big_matrix = np.random.randn(dim1, dim2, 2)\n",
    "    return big_matrix[:, :, 0] + 1.j * big_matrix[:, :, 1]\n",
    "\n",
    "def complex2bigreal(matrix):\n",
    "    row1 = np.concatenate((np.real(matrix), -np.imag(matrix)), axis=1)\n",
    "    row2 = np.concatenate((np.imag(matrix), np.real(matrix)), axis=1)\n",
    "    return np.concatenate((row1, row2), axis=0)"
   ]
  },
  {
   "cell_type": "code",
   "execution_count": 3,
   "metadata": {
    "collapsed": false
   },
   "outputs": [
    {
     "data": {
      "text/plain": [
       "array([[ -11.98245409,   46.98510923,   15.2539712 ,   38.72437155],\n",
       "       [  44.44146309, -126.62033605,  -40.91030224, -145.83578874],\n",
       "       [ -15.2539712 ,  -38.72437155,  -11.98245409,   46.98510923],\n",
       "       [  40.91030224,  145.83578874,   44.44146309, -126.62033605]])"
      ]
     },
     "execution_count": 3,
     "metadata": {},
     "output_type": "execute_result"
    }
   ],
   "source": [
    "H = complexrandn(2, 2)\n",
    "# print(H)\n",
    "Hp1 = np.concatenate((-np.imag(H), -np.real(H)), axis=1)\n",
    "Hp2 = np.concatenate((np.real(H), -np.imag(H)), axis=1)\n",
    "Hp = np.concatenate((Hp1, Hp2), axis=0)\n",
    "x = T.dscalar('x')\n",
    "expH = T.slinalg.expm(x * Hp)\n",
    "# theano.pp(expH)\n",
    "expH_flat = T.flatten(expH)\n",
    "def fn(i, M, x):\n",
    "    return T.grad(M[i], x)\n",
    "J, updates = theano.scan(fn=fn,\n",
    "                         sequences=[T.arange(expH_flat.shape[0])],\n",
    "                         non_sequences=[expH_flat, x])\n",
    "gexpH = J.reshape(expH.shape)\n",
    "f = theano.function([x], gexpH)\n",
    "f(2.)"
   ]
  },
  {
   "cell_type": "code",
   "execution_count": 6,
   "metadata": {
    "collapsed": false
   },
   "outputs": [
    {
     "name": "stdout",
     "output_type": "stream",
     "text": [
      "(16, 8, 8)\n"
     ]
    },
    {
     "data": {
      "text/plain": [
       "array([[ 0.,  0.,  0.,  0.,  0., -1.,  0.,  0.],\n",
       "       [ 0.,  0.,  0.,  0., -1.,  0.,  0.,  0.],\n",
       "       [ 0.,  0.,  0.,  0.,  0.,  0.,  0., -1.],\n",
       "       [ 0.,  0.,  0.,  0.,  0.,  0., -1.,  0.],\n",
       "       [ 0.,  1.,  0.,  0.,  0.,  0.,  0.,  0.],\n",
       "       [ 1.,  0.,  0.,  0.,  0.,  0.,  0.,  0.],\n",
       "       [ 0.,  0.,  0.,  1.,  0.,  0.,  0.,  0.],\n",
       "       [ 0.,  0.,  1.,  0.,  0.,  0.,  0.,  0.]])"
      ]
     },
     "execution_count": 6,
     "metadata": {},
     "output_type": "execute_result"
    }
   ],
   "source": [
    "# get_sigmas_index gets a tuple as input and gives back\n",
    "# a length-16 array of zeros with only one element equal to 1\n",
    "def get_sigmas_index(indices):\n",
    "    all_zeros = np.zeros(4 * 4)\n",
    "    all_zeros[indices[0] * 4 + indices[1]] = 1.\n",
    "    return all_zeros\n",
    "\n",
    "# generate all tensor products of sigmas\n",
    "sigmas = [qutip.qeye(2), qutip.sigmax(), qutip.sigmay(), qutip.sigmaz()]\n",
    "sigma_pairs = []\n",
    "for idx1 in range(4):\n",
    "    for idx2 in range(4):\n",
    "        sigma_pairs.append(\n",
    "            complex2bigreal(\n",
    "                1j * qutip.tensor(sigmas[idx1], sigmas[idx2]).data.toarray()))\n",
    "sigma_pairs = np.asarray(sigma_pairs)\n",
    "\n",
    "print(sigma_pairs.shape)\n",
    "\n",
    "# J is the theano vector containing all the interactions strengths\n",
    "J = T.dvector('J')\n",
    "H = T.tensordot(J, sigma_pairs, axes=1)\n",
    "\n",
    "expH = T.slinalg.expm(H)\n",
    "\n",
    "f = theano.function([J], H)\n",
    "f(get_sigmas_index((0, 1)))\n",
    "# theano.printing.pydotprint(H, 'testPNG.png')"
   ]
  },
  {
   "cell_type": "code",
   "execution_count": 7,
   "metadata": {
    "collapsed": false
   },
   "outputs": [],
   "source": [
    "import qutip\n",
    "import itertools\n",
    "from collections import OrderedDict\n",
    "\n",
    "def chars2pair(chars):\n",
    "    out_pair = []\n",
    "    for idx in range(len(chars)):\n",
    "        if chars[idx] == 'x':\n",
    "            out_pair.append(1)\n",
    "        elif chars[idx] == 'y':\n",
    "            out_pair.append(2)\n",
    "        elif chars[idx] == 'z':\n",
    "            out_pair.append(3)\n",
    "        else:\n",
    "            raise ValueError('chars must contain 2 characters, each of'\n",
    "                             'which equal to either x, y, or z')\n",
    "    return tuple(out_pair)\n",
    "\n",
    "class QubitNetwork:\n",
    "    def __init__(self, num_qubits,\n",
    "                 interactions='all', self_interactions='all',\n",
    "                 system_qubits=None):\n",
    "        # *self.num_qubits* is the TOTAL number of qubits in the networl,\n",
    "        # regardless of them being system or ancilla qubits\n",
    "        self.num_qubits = num_qubits\n",
    "        # we store all the possible pairs for convenience\n",
    "        self.pairs = list(itertools.combinations(range(self.num_qubits), 2))\n",
    "        # decode_interactions_dict fills the self.active_Js variable\n",
    "        self.active_Js = self.decode_interactions(interactions)\n",
    "        self.active_hs = self.decode_self_interactions(self_interactions)\n",
    "        \n",
    "        self.num_interactions = self.count_interactions()\n",
    "        self.num_self_interactions = self.count_self_interactions()\n",
    "        \n",
    "        # Js_factors and hs_factors store the matrices, in big real form,\n",
    "        # that will have to multiplied by the *Js* and *hs* factors\n",
    "        self.Js_factors, self.hs_factors = self.build_H_components()\n",
    "        \n",
    "        # the initial state is here build in big real form, with all\n",
    "        # the qubits initialized in the up position\n",
    "        self.initial_state = self.build_initial_state_vector()\n",
    "        \n",
    "        # Define which qubits belong to the system. The others are all\n",
    "        # assumed to be ancilla qubits. If *system_qubits* was not explicitly\n",
    "        # given it is assumed that half of the qubits are the system and half\n",
    "        # are ancillas\n",
    "        if system_qubits is None:\n",
    "            self.system_qubits = tuple(range(num_qubits // 2))\n",
    "        elif np.all(np.asarray(system_qubits) < num_qubits):\n",
    "            self.system_qubits = tuple(system_qubits)\n",
    "        else:\n",
    "            raise ValueError('Invalid value for system_qubits.')\n",
    "\n",
    "    def decode_interactions(self, interactions):\n",
    "        if interactions == 'all':\n",
    "            allsigmas = [item[0] + item[1]\n",
    "                         for item in itertools.product(['x', 'y', 'z'], repeat=2)]\n",
    "            return OrderedDict([(pair, allsigmas) for pair in self.pairs])\n",
    "        elif isinstance(interactions, tuple):\n",
    "            if interactions[0] == 'all':\n",
    "                d = {pair: interactions[1] for pair in self.pairs}\n",
    "                return OrderedDict(d)\n",
    "        elif (isinstance(interactions, dict) and\n",
    "              all(isinstance(k, tuple) for k in interactions.keys())):\n",
    "            return OrderedDict(interactions)\n",
    "        else:\n",
    "            raise ValueError('Invalid value given for interactions.')\n",
    "    \n",
    "    def decode_self_interactions(self, self_interactions):\n",
    "        if self_interactions == 'all':\n",
    "            return OrderedDict(\n",
    "                {idx: ['x', 'y', 'z'] for idx in range(self.num_qubits)})\n",
    "        elif isinstance(self_interactions, tuple):\n",
    "            if self_interactions[0] == 'all':\n",
    "                d = {idx: self_interactions[1] for idx in range(self.num_qubits)}\n",
    "                return OrderedDict(d)\n",
    "            else:\n",
    "                raise ValueError('Invalid value for self_interactions.')\n",
    "        else:\n",
    "            raise ValueError('Invalid value of self_interactions.')\n",
    "            \n",
    "    \n",
    "    def count_interactions(self):\n",
    "        count = 0\n",
    "        for k, v in self.active_Js.items():\n",
    "            count += len(v)\n",
    "        return count\n",
    "\n",
    "    def count_self_interactions(self):\n",
    "        count = 0\n",
    "        for k, v in self.active_hs.items():\n",
    "            count += len(v)\n",
    "        return count\n",
    "    \n",
    "    def build_H_components(self):\n",
    "        terms_template = [qutip.qeye(2) for _ in range(self.num_qubits)]\n",
    "        Js_factors = []\n",
    "        hs_factors = []\n",
    "        for pair, directions in self.active_Js.items():\n",
    "            # - directions is a list of elements like ss below\n",
    "            # - ss is a two-character string specifying an interaction\n",
    "            # direction, e.g. 'xx' or 'xy' or 'zy'\n",
    "            for ss in directions:\n",
    "                term = terms_template\n",
    "                term[pair[0]] = sigmas[chars2pair(ss)[0]]\n",
    "                term[pair[1]] = sigmas[chars2pair(ss)[1]]\n",
    "                term = complex2bigreal(1j * qutip.tensor(term).data.toarray())\n",
    "                Js_factors.append(term)\n",
    "\n",
    "        for qubit_idx, direction in self.active_hs.items():\n",
    "            # - now direction is a list of characters among 'x', 'y' and 'z',\n",
    "            # - s is either 'x', 'y', or 'z'\n",
    "            for s in direction:\n",
    "                term = terms_template\n",
    "                term[qubit_idx] = sigmas[chars2pair(s)[0]]\n",
    "                term = complex2bigreal(1j * qutip.tensor(term).data.toarray())\n",
    "                hs_factors.append(term)\n",
    "\n",
    "        return np.asarray(Js_factors), np.asarray(hs_factors)\n",
    "    \n",
    "    def build_initial_state_vector(self):\n",
    "        state = qutip.tensor([qutip.basis(2, 0) for _ in range(self.num_qubits)])\n",
    "        state = state.data.toarray()\n",
    "        state = np.concatenate((np.real(state), np.imag(state)), axis=0)\n",
    "        return state"
   ]
  },
  {
   "cell_type": "code",
   "execution_count": 21,
   "metadata": {
    "collapsed": false
   },
   "outputs": [
    {
     "data": {
      "text/plain": [
       "4"
      ]
     },
     "execution_count": 21,
     "metadata": {},
     "output_type": "execute_result"
    }
   ],
   "source": [
    "net = QubitNetwork(4, interactions=('all', ['zz']),\n",
    "                   self_interactions=('all', ['x', 'y']),\n",
    "                   system_qubits=[0, 1, 2])\n",
    "net.num_qubits"
   ]
  },
  {
   "cell_type": "code",
   "execution_count": 36,
   "metadata": {
    "collapsed": false
   },
   "outputs": [
    {
     "data": {
      "text/plain": [
       "array([[  3.03556143e-03,   1.66358705e-03,   4.07523580e-03,\n",
       "          6.19026651e-04,  -3.01127481e-04,  -8.74648854e-04,\n",
       "         -7.70966682e-03,  -2.31993998e-03,  -5.22443454e-04,\n",
       "         -5.65659741e-03,   2.55806487e-03,   5.50443239e-04,\n",
       "          1.22820288e-03,   1.29057079e-02,  -3.25598837e-03,\n",
       "          3.18211909e-02],\n",
       "       [  1.66358705e-03,   9.11700173e-04,   2.23336264e-03,\n",
       "          3.39246873e-04,  -1.65027719e-04,  -4.79336209e-04,\n",
       "         -4.22514984e-03,  -1.27140307e-03,  -2.86316118e-04,\n",
       "         -3.10000059e-03,   1.40190330e-03,   3.01660917e-04,\n",
       "          6.73095393e-04,   7.07275048e-03,  -1.78438823e-03,\n",
       "          1.74390545e-02],\n",
       "       [  4.07523580e-03,   2.23336264e-03,   5.47099677e-03,\n",
       "          8.31042172e-04,  -4.04263104e-04,  -1.17421452e-03,\n",
       "         -1.03502139e-02,  -3.11451528e-03,  -7.01379403e-04,\n",
       "         -7.59397192e-03,   3.43419752e-03,   7.38969064e-04,\n",
       "          1.64886017e-03,   1.73258898e-02,  -4.37115856e-03,\n",
       "          4.27198919e-02],\n",
       "       [  6.19026651e-04,   3.39246873e-04,   8.31042172e-04,\n",
       "          1.26234966e-04,  -6.14074003e-05,  -1.78362706e-04,\n",
       "         -1.57219326e-03,  -4.73093597e-04,  -1.06539245e-04,\n",
       "         -1.15352123e-03,   5.21653198e-04,   1.12249099e-04,\n",
       "          2.50461186e-04,   2.63179558e-03,  -6.63977199e-04,\n",
       "          6.48913411e-03],\n",
       "       [ -3.01127481e-04,  -1.65027719e-04,  -4.04263104e-04,\n",
       "         -6.14074003e-05,   2.98718249e-05,   8.67651048e-05,\n",
       "          7.64798407e-04,   2.30137883e-04,   5.18263539e-05,\n",
       "          5.61134066e-04,  -2.53759855e-04,  -5.46039306e-05,\n",
       "         -1.21837640e-04,  -1.28024532e-03,   3.22993817e-04,\n",
       "         -3.15665990e-03],\n",
       "       [ -8.74648854e-04,  -4.79336209e-04,  -1.17421452e-03,\n",
       "         -1.78362706e-04,   8.67651048e-05,   2.52016187e-04,\n",
       "          2.22141815e-03,   6.68453890e-04,   1.50533790e-04,\n",
       "          1.62985878e-03,  -7.37065797e-04,  -1.58601484e-04,\n",
       "         -3.53887170e-04,  -3.71857493e-03,   9.38161378e-04,\n",
       "         -9.16877116e-03],\n",
       "       [ -7.70966682e-03,  -4.22514984e-03,  -1.03502139e-02,\n",
       "         -1.57219326e-03,   7.64798407e-04,   2.22141815e-03,\n",
       "          1.95808795e-02,   5.89214375e-03,   1.32689292e-03,\n",
       "          1.43665290e-02,  -6.49692925e-03,  -1.39800629e-03,\n",
       "         -3.11936860e-03,  -3.27776954e-02,   8.26950337e-03,\n",
       "         -8.08189144e-02],\n",
       "       [ -2.31993998e-03,  -1.27140307e-03,  -3.11451528e-03,\n",
       "         -4.73093597e-04,   2.30137883e-04,   6.68453890e-04,\n",
       "          5.89214375e-03,   1.77302342e-03,   3.99279502e-04,\n",
       "          4.32307723e-03,  -1.95501132e-03,  -4.20678450e-04,\n",
       "         -9.38658973e-04,  -9.86323896e-03,   2.48840215e-03,\n",
       "         -2.43194726e-02],\n",
       "       [ -5.22443454e-04,  -2.86316118e-04,  -7.01379403e-04,\n",
       "         -1.06539245e-04,   5.18263539e-05,   1.50533790e-04,\n",
       "          1.32689292e-03,   3.99279502e-04,   8.99165339e-05,\n",
       "          9.73543892e-04,  -4.40262626e-04,  -9.47355121e-05,\n",
       "         -2.11383156e-04,  -2.22117152e-03,   5.60380624e-04,\n",
       "         -5.47667153e-03],\n",
       "       [ -5.65659741e-03,  -3.10000059e-03,  -7.59397192e-03,\n",
       "         -1.15352123e-03,   5.61134066e-04,   1.62985878e-03,\n",
       "          1.43665290e-02,   4.32307723e-03,   9.73543892e-04,\n",
       "          1.05407500e-02,  -4.76680952e-03,  -1.02571991e-03,\n",
       "         -2.28868676e-03,  -2.40490583e-02,   6.06735057e-03,\n",
       "         -5.92969933e-02],\n",
       "       [  2.55806487e-03,   1.40190330e-03,   3.43419752e-03,\n",
       "          5.21653198e-04,  -2.53759855e-04,  -7.37065797e-04,\n",
       "         -6.49692925e-03,  -1.95501132e-03,  -4.40262626e-04,\n",
       "         -4.76680952e-03,   2.15567895e-03,   4.63858019e-04,\n",
       "          1.03500546e-03,   1.08756284e-02,  -2.74381845e-03,\n",
       "          2.68156887e-02],\n",
       "       [  5.50443239e-04,   3.01660917e-04,   7.38969064e-04,\n",
       "          1.12249099e-04,  -5.46039306e-05,  -1.58601484e-04,\n",
       "         -1.39800629e-03,  -4.20678450e-04,  -9.47355121e-05,\n",
       "         -1.02571991e-03,   4.63858019e-04,   9.98127582e-05,\n",
       "          2.22712005e-04,   2.34021278e-03,  -5.90413610e-04,\n",
       "          5.77018774e-03],\n",
       "       [  1.22820288e-03,   6.73095393e-04,   1.64886017e-03,\n",
       "          2.50461186e-04,  -1.21837640e-04,  -3.53887170e-04,\n",
       "         -3.11936860e-03,  -9.38658973e-04,  -2.11383156e-04,\n",
       "         -2.28868676e-03,   1.03500546e-03,   2.22712005e-04,\n",
       "          4.96936846e-04,   5.22171203e-03,  -1.31738869e-03,\n",
       "          1.28750082e-02],\n",
       "       [  1.29057079e-02,   7.07275048e-03,   1.73258898e-02,\n",
       "          2.63179558e-03,  -1.28024532e-03,  -3.71857493e-03,\n",
       "         -3.27776954e-02,  -9.86323896e-03,  -2.22117152e-03,\n",
       "         -2.40490583e-02,   1.08756284e-02,   2.34021278e-03,\n",
       "          5.22171203e-03,   5.48686957e-02,  -1.38428544e-02,\n",
       "          1.35287987e-01],\n",
       "       [ -3.25598837e-03,  -1.78438823e-03,  -4.37115856e-03,\n",
       "         -6.63977199e-04,   3.22993817e-04,   9.38161378e-04,\n",
       "          8.26950337e-03,   2.48840215e-03,   5.60380624e-04,\n",
       "          6.06735057e-03,  -2.74381845e-03,  -5.90413610e-04,\n",
       "         -1.31738869e-03,  -1.38428544e-02,   3.49242158e-03,\n",
       "         -3.41318829e-02],\n",
       "       [  3.18211909e-02,   1.74390545e-02,   4.27198919e-02,\n",
       "          6.48913411e-03,  -3.15665990e-03,  -9.16877116e-03,\n",
       "         -8.08189144e-02,  -2.43194726e-02,  -5.47667153e-03,\n",
       "         -5.92969933e-02,   2.68156887e-02,   5.77018774e-03,\n",
       "          1.28750082e-02,   1.35287987e-01,  -3.41318829e-02,\n",
       "          3.33575258e-01]])"
      ]
     },
     "execution_count": 36,
     "metadata": {},
     "output_type": "execute_result"
    }
   ],
   "source": [
    "# net.hs_factors and net.Js_factors are already in big real matrix form,\n",
    "# and already multiplied by 1j\n",
    "H_factors = np.concatenate((net.hs_factors, net.Js_factors), axis=0)\n",
    "# J is the theano vector containing all the interactions strengths and self energies\n",
    "J = T.dvector('J')\n",
    "# this builds the Hamiltonian of the system (in big real matrix form),\n",
    "# already multiplied with the 1j factor and ready for exponentiation\n",
    "H = T.tensordot(J, H_factors, axes=1)\n",
    "# expH is the unitary evolution of the system\n",
    "expH = T.slinalg.expm(H)\n",
    "\n",
    "# net.initial_state is the initial state stored as a vector (ket),\n",
    "# multiplying it on the left by expH amounts to evolve it\n",
    "expH_times_state = T.dot(expH, net.initial_state)\n",
    "# build the density matrix out of the evolved state\n",
    "dm = expH_times_state * expH_times_state.T\n",
    "dm_real = dm[0:dm.shape[0] // 2, 0:dm.shape[1] // 2]\n",
    "dm_imag = dm[0:dm.shape[0] // 2, dm.shape[1] // 2:]\n",
    "# partial trace\n",
    "def row_fn(row, matrix):\n",
    "    res, updates = theano.scan(fn=col_fn,\n",
    "                               sequences=T.arange(matrix.shape[1]))\n",
    "    return res\n",
    "\n",
    "# dm2 = T.nlinalg.trace(dm[1:9, 1:9])\n",
    "\n",
    "# expH_flat = T.flatten(expH)\n",
    "# def fn(i, matrix, x):\n",
    "#     return T.grad(matrix[i], x)\n",
    "# expH_flat_grad, updates = theano.scan(fn=fn,\n",
    "#                                       sequences=T.arange(expH_flat.shape[0]),\n",
    "#                                       non_sequences=[expH_flat, J])\n",
    "\n",
    "# grads = theano.function([J], expH_flat_grad.reshape(expH.shape))\n",
    "\n",
    "# generate random initial parameters\n",
    "initial_parameters = np.random.randn(net.num_interactions + net.num_self_interactions)\n",
    "f = theano.function([J], dm_real)\n",
    "f(initial_parameters)"
   ]
  },
  {
   "cell_type": "code",
   "execution_count": 32,
   "metadata": {
    "collapsed": false
   },
   "outputs": [
    {
     "data": {
      "text/plain": [
       "array([[  0.,   1.,   2.],\n",
       "       [  3.,   5.,   7.],\n",
       "       [  6.,   9.,  12.]])"
      ]
     },
     "execution_count": 32,
     "metadata": {},
     "output_type": "execute_result"
    }
   ],
   "source": [
    "H = T.dmatrix('H')\n",
    "def fn2(col, row, matrix):\n",
    "    return matrix[row, col] + row * col\n",
    "\n",
    "def fn(row, matrix):\n",
    "    res, updates = theano.scan(fn=fn2,\n",
    "                               sequences=T.arange(matrix.shape[1]),\n",
    "                               non_sequences=[row, matrix])\n",
    "    return res\n",
    "\n",
    "results, updates = theano.scan(fn=fn,\n",
    "                               sequences=T.arange(H.shape[0]),\n",
    "                               non_sequences=[H])\n",
    "f = theano.function([H], results)\n",
    "f(np.arange(9).reshape(3, 3))"
   ]
  },
  {
   "cell_type": "code",
   "execution_count": null,
   "metadata": {
    "collapsed": true
   },
   "outputs": [],
   "source": []
  }
 ],
 "metadata": {
  "anaconda-cloud": {},
  "kernelspec": {
   "display_name": "Python [conda env:theano]",
   "language": "python",
   "name": "conda-env-theano-py"
  },
  "language_info": {
   "codemirror_mode": {
    "name": "ipython",
    "version": 3
   },
   "file_extension": ".py",
   "mimetype": "text/x-python",
   "name": "python",
   "nbconvert_exporter": "python",
   "pygments_lexer": "ipython3",
   "version": "3.5.2"
  }
 },
 "nbformat": 4,
 "nbformat_minor": 1
}
