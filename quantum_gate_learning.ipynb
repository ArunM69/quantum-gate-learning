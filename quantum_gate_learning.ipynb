{
 "cells": [
  {
   "cell_type": "code",
   "execution_count": 1,
   "metadata": {
    "collapsed": false
   },
   "outputs": [],
   "source": [
    "%load_ext autoreload\n",
    "%autoreload 2\n",
    "import numpy as np\n",
    "import qutip\n",
    "import theano\n",
    "import theano.tensor as T\n",
    "import QubitNetwork\n",
    "\n",
    "net = QubitNetwork.QubitNetwork(4, interactions=('all', ['zz']),\n",
    "                   self_interactions=('all', ['x', 'y']),\n",
    "                   system_qubits=[0, 1, 2])"
   ]
  },
  {
   "cell_type": "code",
   "execution_count": 9,
   "metadata": {
    "collapsed": false
   },
   "outputs": [
    {
     "data": {
      "text/plain": [
       "OrderedDict([(0, ['x', 'y']),\n",
       "             (1, ['x', 'y']),\n",
       "             (2, ['x', 'y']),\n",
       "             (3, ['x', 'y'])])"
      ]
     },
     "execution_count": 9,
     "metadata": {},
     "output_type": "execute_result"
    }
   ],
   "source": [
    "net.active_hs"
   ]
  },
  {
   "cell_type": "code",
   "execution_count": 10,
   "metadata": {
    "collapsed": false
   },
   "outputs": [
    {
     "data": {
      "text/plain": [
       "OrderedDict([((0, 1), ['zz']),\n",
       "             ((1, 2), ['zz']),\n",
       "             ((1, 3), ['zz']),\n",
       "             ((2, 3), ['zz']),\n",
       "             ((0, 3), ['zz']),\n",
       "             ((0, 2), ['zz'])])"
      ]
     },
     "execution_count": 10,
     "metadata": {},
     "output_type": "execute_result"
    }
   ],
   "source": [
    "net.active_Js"
   ]
  },
  {
   "cell_type": "code",
   "execution_count": 4,
   "metadata": {
    "collapsed": false
   },
   "outputs": [
    {
     "name": "stdout",
     "output_type": "stream",
     "text": [
      "(16, 8, 8)\n"
     ]
    },
    {
     "data": {
      "text/plain": [
       "array([[ 0.,  0.,  0.,  0.,  0., -1.,  0.,  0.],\n",
       "       [ 0.,  0.,  0.,  0., -1.,  0.,  0.,  0.],\n",
       "       [ 0.,  0.,  0.,  0.,  0.,  0.,  0., -1.],\n",
       "       [ 0.,  0.,  0.,  0.,  0.,  0., -1.,  0.],\n",
       "       [ 0.,  1.,  0.,  0.,  0.,  0.,  0.,  0.],\n",
       "       [ 1.,  0.,  0.,  0.,  0.,  0.,  0.,  0.],\n",
       "       [ 0.,  0.,  0.,  1.,  0.,  0.,  0.,  0.],\n",
       "       [ 0.,  0.,  1.,  0.,  0.,  0.,  0.,  0.]])"
      ]
     },
     "execution_count": 4,
     "metadata": {},
     "output_type": "execute_result"
    }
   ],
   "source": [
    "# J is the theano vector containing all the interactions strengths\n",
    "J = T.dvector('J')\n",
    "H = T.tensordot(J, sigma_pairs, axes=1)\n",
    "\n",
    "expH = T.slinalg.expm(H)\n",
    "\n",
    "f = theano.function([J], H)\n",
    "f(get_sigmas_index((0, 1)))\n",
    "# theano.printing.pydotprint(H, 'testPNG.png')"
   ]
  },
  {
   "cell_type": "code",
   "execution_count": 2,
   "metadata": {
    "collapsed": false
   },
   "outputs": [
    {
     "name": "stdout",
     "output_type": "stream",
     "text": [
      "Total number of qubits: 4,\n",
      "Number of ancillary qubits: 1\n",
      "Number of system qubits: 3\n",
      "System qubits: (0, 1, 2)\n"
     ]
    },
    {
     "data": {
      "text/plain": [
       "mean"
      ]
     },
     "execution_count": 2,
     "metadata": {},
     "output_type": "execute_result"
    }
   ],
   "source": [
    "print('Total number of qubits: {0},\\n'\n",
    "      'Number of ancillary qubits: {1}\\n'\n",
    "      'Number of system qubits: {2}\\n'\n",
    "      'System qubits: {3}'.format(\n",
    "        net.num_qubits, net.num_ancillas,\n",
    "        net.num_system_qubits, net.system_qubits))\n",
    "fredkin_gate = qutip.qip.fredkin().data.toarray()\n",
    "fredkin_gate = QubitNetwork.complex2bigreal(fredkin_gate)\n",
    "dataset = net.generate_training_data(fredkin_gate, 1000)\n",
    "# print(dataset[0][0].shape)\n",
    "# print(dataset[1][0].shape)\n",
    "x = T.matrix('x')\n",
    "y = T.matrix('y')\n",
    "net.fidelity(x, y)"
   ]
  },
  {
   "cell_type": "code",
   "execution_count": 156,
   "metadata": {
    "collapsed": false
   },
   "outputs": [
    {
     "data": {
      "text/plain": [
       "(4,)"
      ]
     },
     "execution_count": 156,
     "metadata": {},
     "output_type": "execute_result"
    }
   ],
   "source": [
    "net.ancillas_state.reshape(net.ancillas_state.shape[0]).shape"
   ]
  },
  {
   "cell_type": "code",
   "execution_count": 22,
   "metadata": {
    "collapsed": false
   },
   "outputs": [
    {
     "ename": "AttributeError",
     "evalue": "'QubitNetwork' object has no attribute 'initial_state'",
     "output_type": "error",
     "traceback": [
      "\u001b[0;31m---------------------------------------------------------------------------\u001b[0m",
      "\u001b[0;31mAttributeError\u001b[0m                            Traceback (most recent call last)",
      "\u001b[0;32m<ipython-input-22-ad95759b9a3d>\u001b[0m in \u001b[0;36m<module>\u001b[0;34m()\u001b[0m\n\u001b[1;32m     12\u001b[0m \u001b[0;31m# net.initial_state is the initial state stored as a vector (ket),\u001b[0m\u001b[0;34m\u001b[0m\u001b[0;34m\u001b[0m\u001b[0m\n\u001b[1;32m     13\u001b[0m \u001b[0;31m# multiplying it on the left by expH amounts to evolve it\u001b[0m\u001b[0;34m\u001b[0m\u001b[0;34m\u001b[0m\u001b[0m\n\u001b[0;32m---> 14\u001b[0;31m \u001b[0mexpH_times_state\u001b[0m \u001b[0;34m=\u001b[0m \u001b[0mT\u001b[0m\u001b[0;34m.\u001b[0m\u001b[0mdot\u001b[0m\u001b[0;34m(\u001b[0m\u001b[0mexpH\u001b[0m\u001b[0;34m,\u001b[0m \u001b[0mnet\u001b[0m\u001b[0;34m.\u001b[0m\u001b[0minitial_state\u001b[0m\u001b[0;34m)\u001b[0m\u001b[0;34m\u001b[0m\u001b[0m\n\u001b[0m\u001b[1;32m     15\u001b[0m \u001b[0;31m# build the density matrix out of the evolved state\u001b[0m\u001b[0;34m\u001b[0m\u001b[0;34m\u001b[0m\u001b[0m\n\u001b[1;32m     16\u001b[0m \u001b[0mdm\u001b[0m \u001b[0;34m=\u001b[0m \u001b[0mexpH_times_state\u001b[0m \u001b[0;34m*\u001b[0m \u001b[0mexpH_times_state\u001b[0m\u001b[0;34m.\u001b[0m\u001b[0mT\u001b[0m\u001b[0;34m\u001b[0m\u001b[0m\n",
      "\u001b[0;31mAttributeError\u001b[0m: 'QubitNetwork' object has no attribute 'initial_state'"
     ]
    }
   ],
   "source": [
    "# net.hs_factors and net.Js_factors are already in big real matrix form,\n",
    "# and already multiplied by 1j\n",
    "H_factors = np.concatenate((net.hs_factors, net.Js_factors), axis=0)\n",
    "# J is the theano vector containing all the interactions strengths and self energies\n",
    "J = T.dvector('J')\n",
    "# this builds the Hamiltonian of the system (in big real matrix form),\n",
    "# already multiplied with the 1j factor and ready for exponentiation\n",
    "H = T.tensordot(J, H_factors, axes=1)\n",
    "# expH is the unitary evolution of the system\n",
    "expH = T.slinalg.expm(H)\n",
    "\n",
    "# net.initial_state is the initial state stored as a vector (ket),\n",
    "# multiplying it on the left by expH amounts to evolve it\n",
    "expH_times_state = T.dot(expH, net.initial_state)\n",
    "# build the density matrix out of the evolved state\n",
    "dm = expH_times_state * expH_times_state.T\n",
    "dm_real = dm[0:dm.shape[0] // 2, 0:dm.shape[1] // 2]\n",
    "dm_imag = dm[0:dm.shape[0] // 2, dm.shape[1] // 2:]\n",
    "# partial trace\n",
    "num_ancillas = net.num_qubits - len(net.system_qubits)\n",
    "def col_fn(col_idx, row_idx, matrix):\n",
    "    subm_dim = 2 ** num_ancillas\n",
    "    return T.nlinalg.trace(\n",
    "        matrix[row_idx * subm_dim:(row_idx + 1) * subm_dim, col_idx * subm_dim:(col_idx + 1) * subm_dim])\n",
    "\n",
    "def row_fn(row_idx, matrix):\n",
    "    results, _ = theano.scan(fn=col_fn,\n",
    "                             sequences=T.arange(matrix.shape[1] // 2 ** num_ancillas),\n",
    "                             non_sequences=[row_idx, matrix])\n",
    "    return results\n",
    "dm_real_traced, _ = theano.scan(fn=row_fn,\n",
    "                             sequences=T.arange(dm_real.shape[0] // 2 ** num_ancillas),\n",
    "                             non_sequences=[dm_real])\n",
    "dm_imag_traced, _ = theano.scan(fn=row_fn,\n",
    "                             sequences=T.arange(dm_imag.shape[0] // 2 ** num_ancillas),\n",
    "                             non_sequences=[dm_imag])\n",
    "dm_traced_r1 = T.concatenate((dm_real_traced, -dm_imag_traced), axis=1)\n",
    "dm_traced_r2 = T.concatenate((dm_imag_traced, dm_real_traced), axis=1)\n",
    "dm_traced = T.concatenate((dm_traced_r1, dm_traced_r2), axis=0)\n",
    "\n",
    "target_u = complex2bigreal(qutip.qip.fredkin().data.toarray())\n",
    "target_evolved_state = T.dot(target_u, net.initial_system_state)\n",
    "# fidelity = target_evolved_state.T.dot(target_u.dot(target_evolved_state))\n",
    "fidelity = T.dot(target_evolved_state.T, T.dot(dm_traced, target_evolved_state))\n",
    "\n",
    "\n",
    "# generate random initial parameters\n",
    "initial_parameters = np.random.randn(net.num_interactions + net.num_self_interactions)\n",
    "f = theano.function([J], fidelity)\n",
    "f(initial_parameters)"
   ]
  },
  {
   "cell_type": "code",
   "execution_count": null,
   "metadata": {
    "collapsed": true
   },
   "outputs": [],
   "source": [
    "# generate random initial parameters\n",
    "initial_parameters = np.random.randn(\n",
    "    net.num_interactions + net.num_self_interactions)\n",
    "f = theano.function([J], fidelity)\n",
    "f(initial_parameters)"
   ]
  }
 ],
 "metadata": {
  "anaconda-cloud": {},
  "kernelspec": {
   "display_name": "Python [conda env:theano]",
   "language": "python",
   "name": "conda-env-theano-py"
  },
  "language_info": {
   "codemirror_mode": {
    "name": "ipython",
    "version": 3
   },
   "file_extension": ".py",
   "mimetype": "text/x-python",
   "name": "python",
   "nbconvert_exporter": "python",
   "pygments_lexer": "ipython3",
   "version": "3.5.2"
  }
 },
 "nbformat": 4,
 "nbformat_minor": 1
}
